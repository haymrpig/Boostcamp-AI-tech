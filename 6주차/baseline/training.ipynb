{
 "cells": [
  {
   "cell_type": "code",
   "execution_count": 1,
   "metadata": {},
   "outputs": [],
   "source": [
    "import os"
   ]
  },
  {
   "cell_type": "code",
   "execution_count": 2,
   "metadata": {},
   "outputs": [
    {
     "data": {
      "text/plain": [
       "'/opt/ml/baseline'"
      ]
     },
     "execution_count": 2,
     "metadata": {},
     "output_type": "execute_result"
    }
   ],
   "source": [
    "os.getcwd()"
   ]
  },
  {
   "cell_type": "code",
   "execution_count": 5,
   "metadata": {},
   "outputs": [
    {
     "name": "stdout",
     "output_type": "stream",
     "text": [
      "\u001b[34m\u001b[1mwandb\u001b[0m: Currently logged in as: \u001b[33mhaymrpig\u001b[0m (use `wandb login --relogin` to force relogin)\n",
      "\u001b[34m\u001b[1mwandb\u001b[0m: Tracking run with wandb version 0.12.10\n",
      "\u001b[34m\u001b[1mwandb\u001b[0m: Syncing run \u001b[33mdulcet-pyramid-31\u001b[0m\n",
      "\u001b[34m\u001b[1mwandb\u001b[0m: ⭐️ View project at \u001b[34m\u001b[4mhttps://wandb.ai/haymrpig/my_project\u001b[0m\n",
      "\u001b[34m\u001b[1mwandb\u001b[0m: 🚀 View run at \u001b[34m\u001b[4mhttps://wandb.ai/haymrpig/my_project/runs/ep3rwb9m\u001b[0m\n",
      "\u001b[34m\u001b[1mwandb\u001b[0m: Run data is saved locally in /opt/ml/baseline/wandb/run-20220225_073421-ep3rwb9m\n",
      "\u001b[34m\u001b[1mwandb\u001b[0m: Run `wandb offline` to turn off syncing.\n",
      "\n",
      "Downloading: \"https://github.com/lukemelas/EfficientNet-PyTorch/releases/download/1.0/efficientnet-b5-b6417697.pth\" to /opt/ml/.cache/torch/hub/checkpoints/efficientnet-b5-b6417697.pth\n",
      "100%|████████████████████████████████████████| 117M/117M [00:06<00:00, 18.8MB/s]\n",
      "Loaded pretrained weights for efficientnet-b5\n",
      "100%|█████████████████████████████████████████| 945/945 [09:22<00:00,  1.68it/s]\n",
      ">>>>>>>>> start validation....wait......\n",
      ">>>>>>>>> Validation #1  Accuracy: 74.94%  Average Loss: 0.8684\n",
      ">>>>>>>>> Best performance at epoch: 1\n",
      ">>>>>>>>> Save model in /opt/ml/baseline/experiments/exp17/efficientnet_b5\n",
      "100%|█████████████████████████████████████████| 945/945 [09:22<00:00,  1.68it/s]\n",
      ">>>>>>>>> start validation....wait......\n",
      ">>>>>>>>> Validation #2  Accuracy: 82.51%  Average Loss: 0.8468\n",
      ">>>>>>>>> Best performance at epoch: 2\n",
      ">>>>>>>>> Save model in /opt/ml/baseline/experiments/exp17/efficientnet_b5\n",
      "100%|█████████████████████████████████████████| 945/945 [09:22<00:00,  1.68it/s]\n",
      ">>>>>>>>> start validation....wait......\n",
      ">>>>>>>>> Validation #3  Accuracy: 48.66%  Average Loss: 0.9012\n",
      "  0%|                                                   | 0/945 [00:00<?, ?it/s]>>>>>>>>> earlystopping 게이지 1 / 2\n",
      "100%|█████████████████████████████████████████| 945/945 [09:22<00:00,  1.68it/s]\n",
      ">>>>>>>>> start validation....wait......\n",
      ">>>>>>>>> Validation #4  Accuracy: 64.12%  Average Loss: 0.8752\n",
      ">>>>>>>>> earlystopping 게이지 2 / 2\n",
      "100%|█████████████████████████████████████████| 945/945 [09:21<00:00,  1.72it/s]>>>>>>>>> start validation....wait......\n",
      "100%|█████████████████████████████████████████| 945/945 [09:21<00:00,  1.68it/s]\n",
      ">>>>>>>>> Validation #5  Accuracy: 88.49%  Average Loss: 0.8277\n",
      ">>>>>>>>> Best performance at epoch: 5\n",
      ">>>>>>>>> Save model in /opt/ml/baseline/experiments/exp17/efficientnet_b5\n",
      "100%|█████████████████████████████████████████| 945/945 [09:22<00:00,  1.68it/s]\n",
      ">>>>>>>>> start validation....wait......\n",
      ">>>>>>>>> Validation #6  Accuracy: 87.85%  Average Loss: 0.8289\n",
      ">>>>>>>>> earlystopping 게이지 1 / 2\n",
      "100%|█████████████████████████████████████████| 945/945 [09:23<00:00,  1.68it/s]\n",
      ">>>>>>>>> start validation....wait......\n",
      ">>>>>>>>> Validation #7  Accuracy: 68.67%  Average Loss: 0.8616\n",
      ">>>>>>>>> earlystopping 게이지 2 / 2\n",
      "100%|█████████████████████████████████████████| 945/945 [09:22<00:00,  1.48it/s]>>>>>>>>> start validation....wait......\n",
      "100%|█████████████████████████████████████████| 945/945 [09:22<00:00,  1.68it/s]\n",
      ">>>>>>>>> Validation #8  Accuracy: 65.33%  Average Loss: 0.8691\n",
      ">>>>>>>>> earlystopping 게이지 3 / 2\n",
      "early stopped!!!\n",
      "\n",
      "\u001b[34m\u001b[1mwandb\u001b[0m: Waiting for W&B process to finish, PID 8221... (success).\n",
      "\u001b[34m\u001b[1mwandb\u001b[0m:                                                                                \n",
      "\u001b[34m\u001b[1mwandb\u001b[0m: Run history:\n",
      "\u001b[34m\u001b[1mwandb\u001b[0m:   >>>>>>>>> accuracy ▆▇▁▄██▅▄\n",
      "\u001b[34m\u001b[1mwandb\u001b[0m:                 loss ▅▃█▆▁▁▄▅\n",
      "\u001b[34m\u001b[1mwandb\u001b[0m: \n",
      "\u001b[34m\u001b[1mwandb\u001b[0m: Run summary:\n",
      "\u001b[34m\u001b[1mwandb\u001b[0m:   >>>>>>>>> accuracy 65.33474\n",
      "\u001b[34m\u001b[1mwandb\u001b[0m:                 loss 0.86915\n",
      "\u001b[34m\u001b[1mwandb\u001b[0m: \n",
      "\u001b[34m\u001b[1mwandb\u001b[0m: Synced 6 W&B file(s), 0 media file(s), 0 artifact file(s) and 0 other file(s)\n",
      "\u001b[34m\u001b[1mwandb\u001b[0m: Synced \u001b[33mdulcet-pyramid-31\u001b[0m: \u001b[34mhttps://wandb.ai/haymrpig/my_project/runs/ep3rwb9m\u001b[0m\n",
      "\u001b[34m\u001b[1mwandb\u001b[0m: Find logs at: ./wandb/run-20220225_073421-ep3rwb9m/logs/debug.log\n",
      "\u001b[34m\u001b[1mwandb\u001b[0m: \n"
     ]
    }
   ],
   "source": [
    "#!python3 train.py --config config_copy.cfg\n",
    "#!python3 train.py --config config_copy2.cfg\n",
    "#!python3 train.py --config config1.cfg\n",
    "#!python3 train.py --config config2.cfg\n",
    "#!python3 train.py --config config3.cfg\n",
    "#!python3 train.py --config config4.cfg\n",
    "!python3 train.py --config config5.cfg"
   ]
  }
 ],
 "metadata": {
  "interpreter": {
   "hash": "d4d1e4263499bec80672ea0156c357c1ee493ec2b1c70f0acce89fc37c4a6abe"
  },
  "kernelspec": {
   "display_name": "Python 3.8.5 ('base')",
   "language": "python",
   "name": "python3"
  },
  "language_info": {
   "codemirror_mode": {
    "name": "ipython",
    "version": 3
   },
   "file_extension": ".py",
   "mimetype": "text/x-python",
   "name": "python",
   "nbconvert_exporter": "python",
   "pygments_lexer": "ipython3",
   "version": "3.8.5"
  },
  "orig_nbformat": 4
 },
 "nbformat": 4,
 "nbformat_minor": 2
}
